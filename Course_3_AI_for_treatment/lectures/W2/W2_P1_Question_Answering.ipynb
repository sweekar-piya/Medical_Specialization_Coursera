{
 "cells": [
  {
   "cell_type": "markdown",
   "metadata": {},
   "source": [
    "# Introduction\n",
    "\n",
    "In this week of the course, we will be using [BERT](https://arxiv.org/abs/1810.04805) (Bidirectional Encoder Representations from Transformers) model to build a medical Q/A system - Bot that answer your Medical queries which is based on Encoder architecture.\n",
    "\n",
    "<center>\n",
    "<img src=\"data:image/png;base64,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\" style=\"cursor:pointer;max-width:100%;\" onclick=\"(function(img){if(img.wnd!=null&&!img.wnd.closed){img.wnd.focus();}else{var r=function(evt){if(evt.data=='ready'&&evt.source==img.wnd){img.wnd.postMessage(decodeURIComponent(img.getAttribute('src')),'*');window.removeEventListener('message',r);}};window.addEventListener('message',r);img.wnd=window.open('https://viewer.diagrams.net/?client=1&page=0&edit=_blank');}})(this);\"/>\n",
    "<P>Figure 1: Example of a Medical Q/A system</P>\n",
    "</center>"
   ]
  },
  {
   "cell_type": "markdown",
   "metadata": {},
   "source": [
    "## Prerequisites\n",
    "\n",
    "Before starting to read the following notebook on Medical QA system, have a clear understanding of the following terminologies:\n",
    "1. [Preprocessing data for NLP task](https://medium.com/@maleeshadesilva21/preprocessing-steps-for-natural-language-processing-nlp-a-beginners-guide-d6d9bf7689c9).\n",
    "2. [Word Representation/Vectorization](https://stanford.edu/~shervine/teaching/cs-230/cheatsheet-recurrent-neural-networks#word-representation) - One-hot, BoW, TF-IDF, Word2Vec, GloVe, ELMo, BERT.\n",
    "3. [NLP Model Building blocks](https://stanford.edu/~shervine/teaching/cs-230/cheatsheet-recurrent-neural-networks#overview) - RNN, LSTM, and GRU.\n",
    "4. [Attention Mechanism and Transformer Block](https://towardsdatascience.com/all-you-need-to-know-about-attention-and-transformers-in-depth-understanding-part-1-552f0b41d021)"
   ]
  },
  {
   "cell_type": "markdown",
   "metadata": {},
   "source": [
    "## What is Question Answering?\n",
    "\n",
    "\"Question answering tasks return an answer given a question. If you’ve ever asked a virtual assistant like Alexa, Siri or Google what the weather is, then you’ve used a question answering model before. There are two common types of question answering tasks:\n",
    "\n",
    "Extractive: extract the answer from the given context.\n",
    "Abstractive: generate an answer from the context that correctly answers the question.\" - [Hugging Face](https://huggingface.co/docs/transformers/tasks/question_answering)\n",
    "\n",
    "_We will endeavor to create an \"Abstractive\" QA system in this week of the course._"
   ]
  },
  {
   "cell_type": "markdown",
   "metadata": {},
   "source": [
    "## Medical Q/A - How to build such a system?\n",
    "\n",
    "Below is the brief description of steps to build an abstractive QA system:\n",
    "\n",
    "1. First, we would be getting the QA Dataset for the BERT model.\n",
    "\n",
    "    The dataset would be in the format of:\n",
    "    ```\n",
    "    Question (Q): What is the drug forxiga used for?\n",
    "    Passage that contains the answer (P) or Context: Paracetamol (Panadol, Calpol, Alvedon) is an analgesic and antipyretic drug that is used to _ temporarily relieve mild-to-moderate pain and fever _. It is commonly included as an ingredient in cold and flu medications and is also used on its own.\n",
    "    Answer (A): temporarily relieve mid-to-moderate pain and fever\n",
    "    ```\n",
    "\n",
    "    Here, Passage (P) contains the Answer (A), enclosed by \"_\".\n",
    "\n",
    "2. Next would be to preprocess the raw dataset into feedable form (Tokens). So, we break the input (Q & P) into Tokens/Words. Then, we feed it to the model, here BERT. The model converts each of the words/tokens into vector representation of 768 dimension AKA _Contextualized Word Representations_.\n",
    "\n",
    "    <center><img src=\"../../assets/W2/W2_P1_QA_bot_step2.png\" width=900></img></center>\n",
    "\n",
    "    Here, Q and P are separated using a special `[sep]` Token, with start and end tokens to notify the start and end of the data sample.\n",
    "\n",
    "    <center><img src=\"../../assets/W2/W2_P1_QA_bot_step2_1.png\" width=900></img></center>\n",
    "\n",
    "    Note: Similar words have smaller distance while different are larger. We can visualize this using dimensionality reduction techniques, such as [t-SNE](https://en.wikipedia.org/wiki/T-distributed_stochastic_neighbor_embedding).\n",
    "\n",
    "3. Since the answer (A) is available within the provided Passage (P), we can, for each of the word of P (i.e. after the `[sep]` token), using BERT classify it as Start or End of the passage.\n",
    "\n",
    "    <center><img src=\"../../assets/W2/W2_P1_start_end_classification_1.png\" width=900></img></center>\n",
    "\n",
    "    Note: To compute the Start and End Score ($xS$ and $xE$, resp) for each of the word, we multiply the Contextualized word representation with vectors $S$ and $E$. Note: The model needs to learn these vectors using the training data provided by user in iterative fashion. Consequently, the word representation are also updated.\n",
    "\n",
    "    After learning these vectors, we can compute the $xS$ and $xE$ scores for each of the word. And the higher the values of $xS$ and $xE$, the more likely that the word is Start or End of the Answer (A). \n",
    "\n",
    "    <center><img src=\"../../assets/W2/W2_P1_start_end_classification_2.png\" width=900></img></center>\n",
    "\n",
    "4. Finally, for finding the most probable answer, we compute a grid of score, where each score is a sum of start and end scores. The highest score is the most probable answer. Note: _By computing only the top diagonal of the grid we can remove the scores where end comes before the start._ \n",
    "\n",
    "    <center><img src=\"../../assets/W2/W2_P1_start_end_classification_3.png\" width=900></img></center>\n",
    "\n",
    "\n",
    "\n",
    "\n",
    "\n"
   ]
  },
  {
   "cell_type": "markdown",
   "metadata": {},
   "source": [
    "### Additional information on Handling Words with Multiple meaning (Homonyms)\n",
    "\n",
    "> The __force__ is strong with this one.\n",
    "\n",
    "> Did you __force__ him into taking this class?\n",
    "\n",
    "Here, the word __force__ have different meanings. So, _how do we provide context to the model about the meanings of the words?_ \n",
    "\n",
    "Previously, __Word2Vec__ and __GLove__ were used for encoding the word to vector, but didn't have the context embedded in them. So, they are termed \"Non-Contextualized Word Representations\". Now, For BERT model we used __\"Contextualized Word Representations\"__ - ELMo (Embeddings for Language Models), BERT representation.\n",
    "\n",
    "The steps to learn the contextualized representation of words is as follows:\n",
    "\n",
    "For a masked token prediction task:\n",
    "1. Word from passage of text in input into the BERT model as tokens.\n",
    "\n",
    "    <center><img src=\"../../assets/W2/W2_P1_contextualizaed_word_representations_1.png\" width=900></img></center>\n",
    "\n",
    "2. Next, one of the word is masked using a `[MASK]` token and fed to BERT for prediction of the word: A layer is added to the output of bert to provide prediction probabilities of the model.\n",
    "\n",
    "    <center><img src=\"../../assets/W2/W2_P1_contextualizaed_word_representations_2.png\" width=900></img></center>\n",
    "\n",
    "3. As a consequence, in the processing of learning such a task, the BERT model learns the word representation (vectors) of n-dimensions.\n",
    "\n",
    "    <center><img src=\"../../assets/W2/W2_P1_contextualizaed_word_representations_3.png\" width=900></img></center>\n",
    "\n",
    "### Additional info on BioBERT and Dataset for computing score vectors.\n",
    "\n",
    "BERT has been trained on Passages from PubMed Abstracts (4.5B) and PMC Full-Text to obtain the Contextualized Work Representations for words frequently used in medicine. This model is known as BioBERT.\n",
    "\n",
    "Also for Natural language questions from general domain, say, SQuAD, is utilized for priliminary training and obtaining score vectors in BERT model. Later the model is fine-tuned in biomedical datasets, such as BioASQ."
   ]
  },
  {
   "cell_type": "markdown",
   "metadata": {},
   "source": [
    "## Conclusion\n",
    "\n",
    "In this notebook we discussed on the steps for training a BERT model for medical Question answering system. In addition, we discussed about contextualized word representations."
   ]
  },
  {
   "cell_type": "markdown",
   "metadata": {},
   "source": [
    "## References\n",
    "\n",
    "1. \"Preprocessing Steps for Natural Language Processing (NLP): A Beginner’s Guide\" by Meleesha De Silva on Medium.\n",
    "2. \"CS 230 - Deep Learning: RNN CheatSheet\" By Afshine Amidi and Shervine Amidi.\n",
    "3. \"All you need to know about 'Attention' and 'Transformers'\" - In-depth Understanding - Part 1"
   ]
  }
 ],
 "metadata": {
  "language_info": {
   "name": "python"
  }
 },
 "nbformat": 4,
 "nbformat_minor": 2
}
